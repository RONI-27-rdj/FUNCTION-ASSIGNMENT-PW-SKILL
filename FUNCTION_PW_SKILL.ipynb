{
  "nbformat": 4,
  "nbformat_minor": 0,
  "metadata": {
    "colab": {
      "provenance": []
    },
    "kernelspec": {
      "name": "python3",
      "display_name": "Python 3"
    },
    "language_info": {
      "name": "python"
    }
  },
  "cells": [
    {
      "cell_type": "markdown",
      "source": [
        "# FUNCTION ASSIGNMENT (THEORY)"
      ],
      "metadata": {
        "id": "SS88VSDQbIew"
      }
    },
    {
      "cell_type": "markdown",
      "source": [
        "# QUESTION 1 What is the difference between a function and a method in Python?"
      ],
      "metadata": {
        "id": "uOpkxoHPbB7n"
      }
    },
    {
      "cell_type": "markdown",
      "source": [
        "-> In Python, both functions and methods are blocks of code that perform a specific task. The main difference between them is:\n",
        "\n",
        "- **Function:**\n",
        "    - A standalone block of code that can be called independently.\n",
        "    - Defined using the def keyword.\n",
        "    - Can be called without creating an instance of a class.\n",
        "    - Does not belong to any specific class or object.\n",
        "- **Method:**\n",
        "    - A block of code that belongs to a class or object.\n",
        "    - Defined inside a class definition.\n",
        "    - Can operate on the class's attributes (data) and is typically used to perform actions related to the class.\n",
        "    - Can be called on an instance of the class.\n",
        "    Example for both function and method in python are mentioned:-\n"
      ],
      "metadata": {
        "id": "YhTPo-igbX9g"
      }
    },
    {
      "cell_type": "code",
      "source": [
        "# Function\n",
        "def greet(name):\n",
        "    print(f\"Hello, {name}!\")\n",
        "\n",
        "# Method\n",
        "class Person:\n",
        "    def __init__(self, name):\n",
        "        self.name = name\n",
        "\n",
        "    def greet(self):\n",
        "        print(f\"Hello, my name is {self.name}!\")\n",
        "\n",
        "# Calling the function\n",
        "greet(\"Avinash\")\n",
        "\n",
        "# Creating an instance of the class and calling the method\n",
        "person = Person(\"Deepak\")\n",
        "person.greet()"
      ],
      "metadata": {
        "colab": {
          "base_uri": "https://localhost:8080/"
        },
        "id": "35y0daNwcAZ3",
        "outputId": "fe4bb8c1-b482-46a6-fdf4-d0a887a7472d"
      },
      "execution_count": null,
      "outputs": [
        {
          "output_type": "stream",
          "name": "stdout",
          "text": [
            "Hello, Avinash!\n",
            "Hello, my name is Deepak!\n"
          ]
        }
      ]
    },
    {
      "cell_type": "markdown",
      "source": [
        "# QUESTION 2  Explain the concept of function arguments and parameters in Python.\n",
        "\n"
      ],
      "metadata": {
        "id": "3a0aJaZCcW7a"
      }
    },
    {
      "cell_type": "markdown",
      "source": [
        "-> In Python, parameters and arguments are related but distinct concepts when it comes to functions.\n",
        "\n",
        "Parameters:\n",
        "\n",
        "- Parameters are the variables defined in a function's definition.\n",
        "- They are placeholders for the values that will be passed to the function when it's called.\n",
        "- Parameters are defined inside the parentheses of a function definition.\n",
        "\n",
        "Arguments:\n",
        "\n",
        "- Arguments are the actual values passed to a function when it's called.\n",
        "- They can be literals, variables, or expressions.\n",
        "- Arguments are passed to the function inside the parentheses when the function is called.\n",
        " As mentioned in an example:-\n",
        "\n"
      ],
      "metadata": {
        "id": "cC7Ys3vxcbKK"
      }
    },
    {
      "cell_type": "code",
      "source": [
        "# Function definition with parameters\n",
        "def greet(name, age):\n",
        "    print(f\"Hello, my name is {name} and I am {age} years old.\")\n",
        "\n",
        "# Function call with arguments\n",
        "greet(\"Ravi\", 25)\n",
        "\n"
      ],
      "metadata": {
        "colab": {
          "base_uri": "https://localhost:8080/"
        },
        "id": "cl7zr1JCcmO7",
        "outputId": "25ff1b9b-23f1-4fda-d6c1-c91a3ad2ad90"
      },
      "execution_count": null,
      "outputs": [
        {
          "output_type": "stream",
          "name": "stdout",
          "text": [
            "Hello, my name is Ravi and I am 25 years old.\n"
          ]
        }
      ]
    },
    {
      "cell_type": "markdown",
      "source": [
        "In this example:\n",
        "\n",
        "- name and age are parameters (defined in the function definition).\n",
        "- \"Ravi\" and 25 are arguments (passed to the function when it's called).\n",
        "\n"
      ],
      "metadata": {
        "id": "FE8OWN_ydIEP"
      }
    },
    {
      "cell_type": "markdown",
      "source": [
        "# QUESTION 3 What are the different ways to define and call a function in Python?"
      ],
      "metadata": {
        "id": "ur4ekvludPJx"
      }
    },
    {
      "cell_type": "markdown",
      "source": [
        "-> In Python, functions can be defined and called in several ways, let's discuss some point.\n",
        "1. **Basic Function Definition and Call**:\n",
        "\n"
      ],
      "metadata": {
        "id": "wNKJmm14drwe"
      }
    },
    {
      "cell_type": "code",
      "source": [
        "def greet(name):\n",
        "    print(f\"Hello, {name}!\")\n",
        "\n",
        "greet(\"Avinash\")\n"
      ],
      "metadata": {
        "colab": {
          "base_uri": "https://localhost:8080/"
        },
        "id": "jbGxl1pbeS_j",
        "outputId": "7834cebc-26ac-42eb-a11a-86d14e2431fc"
      },
      "execution_count": null,
      "outputs": [
        {
          "output_type": "stream",
          "name": "stdout",
          "text": [
            "Hello, Avinash!\n"
          ]
        }
      ]
    },
    {
      "cell_type": "markdown",
      "source": [
        "2. Positional Arguments:\n"
      ],
      "metadata": {
        "id": "slYMdqXweX_Y"
      }
    },
    {
      "cell_type": "code",
      "source": [
        "def greet(name, age):\n",
        "    print(f\"Hello, my name is {name} and I am {age} years old.\")\n",
        "\n",
        "greet(\"Avinash\", 25)\n"
      ],
      "metadata": {
        "colab": {
          "base_uri": "https://localhost:8080/"
        },
        "id": "Gf6YFxK9ecJK",
        "outputId": "e32f740f-a031-41e2-dd86-51df36cc2bba"
      },
      "execution_count": null,
      "outputs": [
        {
          "output_type": "stream",
          "name": "stdout",
          "text": [
            "Hello, my name is Avinash and I am 25 years old.\n"
          ]
        }
      ]
    },
    {
      "cell_type": "markdown",
      "source": [
        "3. Keyword Arguments:\n"
      ],
      "metadata": {
        "id": "VPxK1mycemC6"
      }
    },
    {
      "cell_type": "code",
      "source": [
        "def greet(name, age):\n",
        "    print(f\"Hello, my name is {name} and I am {age} years old.\")\n",
        "\n",
        "greet(name=\"Avinash\", age=25)\n",
        "greet(age=25, name=\"Avinash\")\n"
      ],
      "metadata": {
        "colab": {
          "base_uri": "https://localhost:8080/"
        },
        "id": "Bn86YFpMeo_s",
        "outputId": "b2d67772-d3d7-407d-b4e8-dd104eb0b890"
      },
      "execution_count": null,
      "outputs": [
        {
          "output_type": "stream",
          "name": "stdout",
          "text": [
            "Hello, my name is Avinash and I am 25 years old.\n",
            "Hello, my name is Avinash and I am 25 years old.\n"
          ]
        }
      ]
    },
    {
      "cell_type": "markdown",
      "source": [
        "4. Default Arguments:\n",
        "\n",
        "\n",
        "\n"
      ],
      "metadata": {
        "id": "axCvqmFYe3NU"
      }
    },
    {
      "cell_type": "code",
      "source": [
        "def greet(name, age=25):\n",
        "    print(f\"Hello, my name is {name} and I am {age} years old.\")\n",
        "\n",
        "greet(\"Avinash\")\n",
        "greet(\"Avinash\", 25)\n"
      ],
      "metadata": {
        "colab": {
          "base_uri": "https://localhost:8080/"
        },
        "id": "hNDAzWvpe8X1",
        "outputId": "eab656d9-3b98-4ef8-af3e-99424bb361bf"
      },
      "execution_count": null,
      "outputs": [
        {
          "output_type": "stream",
          "name": "stdout",
          "text": [
            "Hello, my name is Avinash and I am 25 years old.\n",
            "Hello, my name is Avinash and I am 25 years old.\n"
          ]
        }
      ]
    },
    {
      "cell_type": "markdown",
      "source": [
        "5. Variable-Length Arguments (*args)\n",
        "6. Variable-Length Keyword Arguments (*kwargs)\n",
        "7. Lambda Functions:\n",
        "8. Function with Return Value:\n",
        "9. Function with Docstring:\n",
        "\n",
        "These are some of the ways to define and call functions in Python. Each method has its own use cases and benefits.\n",
        "\n",
        "\n",
        "\n"
      ],
      "metadata": {
        "id": "lmQLqyf1fS2R"
      }
    },
    {
      "cell_type": "markdown",
      "source": [
        "# QUESTION 4 What is the purpose of the `return` statement in a Python function?"
      ],
      "metadata": {
        "id": "TZUb_EqMfuJs"
      }
    },
    {
      "cell_type": "markdown",
      "source": [
        "-> The return statement in a Python function serves several purposes:\n",
        "\n",
        "1. **Returning Values**: The primary purpose of return is to send back a value from a function to the caller. This allows the function to compute a result and provide it to the code that called the function.\n",
        "2. **Exiting the Function**: When a return statement is encountered, the function execution is terminated, and control is passed back to the caller.\n",
        "3. **Providing Output**: return allows a function to produce output that can be used by other parts of the program.\n",
        "\n",
        "-Here are some key aspects of return:\n",
        "\n",
        "1 **Returning a Single Value**: A function can return a single value, such as a number, string, or object.\n",
        "2** Returning Multiple Values**: Python allows returning multiple values using tuples, lists, or dictionaries.\n",
        "3 **Returning None**: If a function doesn't explicitly return a value, it will return None by default.\n",
        "Here are some example of key aspects which is mentioned\n"
      ],
      "metadata": {
        "id": "bmjfXChDg9I1"
      }
    },
    {
      "cell_type": "code",
      "source": [
        "# Returning a single value\n",
        "def add(a, b):\n",
        "    return a + b\n",
        "\n",
        "result = add(2, 3)\n",
        "print(result)  # Output: 5\n",
        "\n",
        "# Returning multiple values\n",
        "def calculate_stats(numbers):\n",
        "    mean = sum(numbers) / len(numbers)\n",
        "    median = sorted(numbers)[len(numbers) // 2]\n",
        "    return mean, median\n",
        "\n",
        "mean, median = calculate_stats([1, 2, 3, 4, 5])\n",
        "print(mean, median)\n",
        "\n",
        "# Returning None\n",
        "def greet(name):\n",
        "    print(f\"Hello, {name}!\")\n",
        "\n",
        "result = greet(\"name\")\n",
        "print(result)\n"
      ],
      "metadata": {
        "colab": {
          "base_uri": "https://localhost:8080/"
        },
        "id": "2ouZ_XBHhetR",
        "outputId": "703d2950-6304-4c63-c2b5-b44ebf5bae6e"
      },
      "execution_count": null,
      "outputs": [
        {
          "output_type": "stream",
          "name": "stdout",
          "text": [
            "5\n",
            "3.0 3\n",
            "Hello, name!\n",
            "None\n"
          ]
        }
      ]
    },
    {
      "cell_type": "markdown",
      "source": [
        "The return statement is used to provide output from a function, exit the function, and return control to the caller."
      ],
      "metadata": {
        "id": "zM0AZFSShv8E"
      }
    },
    {
      "cell_type": "markdown",
      "source": [
        "# QUESTION 5 What are iterators in Python and how do they differ from iterables?\n",
        "\n"
      ],
      "metadata": {
        "id": "qq2H41xNhy0F"
      }
    },
    {
      "cell_type": "markdown",
      "source": [
        "-> In Python, iterators and iterables are related but distinct concepts.\n",
        "\n",
        "**Iterables:**\n",
        "- An iterable is an object that can be iterated over, meaning its elements can be accessed one by one.\n",
        "- Examples of iterables include lists, tuples, dictionaries, sets, and strings.\n",
        "- Iterables define the __iter__() method, which returns an iterator object.\n",
        "\n",
        "**Iterators:**\n",
        "- An iterator is an object that keeps track of its position and returns the next element in a sequence each time it's called.\n",
        "- Iterators define the __next__() method, which returns the next element in the sequence.\n",
        "- When an iterator is exhausted (i.e., there are no more elements), it raises a StopIteration exception.\n",
        "\n",
        "**The key differences between iterables and iterators are:**\n",
        "- Iterables can be iterated over multiple times, whereas iterators can only be iterated over once.\n",
        "- Iterables define __iter__(), while iterators define __next__().\n"
      ],
      "metadata": {
        "id": "Q7-OrPKHip1j"
      }
    },
    {
      "cell_type": "code",
      "source": [
        "# Iterable (list)\n",
        "my_list = [1, 2, 3]\n",
        "for num in my_list:\n",
        "    print(num)\n",
        "for num in my_list:  # Can iterate multiple times\n",
        "    print(num)\n",
        "\n",
        "\n"
      ],
      "metadata": {
        "colab": {
          "base_uri": "https://localhost:8080/"
        },
        "id": "cLN1oJyYi_jv",
        "outputId": "4adbb6a9-0a4f-4c17-939d-71ea6b329997"
      },
      "execution_count": null,
      "outputs": [
        {
          "output_type": "stream",
          "name": "stdout",
          "text": [
            "1\n",
            "2\n",
            "3\n",
            "1\n",
            "2\n",
            "3\n"
          ]
        }
      ]
    },
    {
      "cell_type": "code",
      "source": [
        "# Iterator\n",
        "my_iterator = iter(my_list)\n",
        "print(next(my_iterator))  # 1\n",
        "print(next(my_iterator))  # 2\n",
        "print(next(my_iterator))  # 3\n",
        "# print(next(my_iterator))  # Raises StopIteration\n"
      ],
      "metadata": {
        "colab": {
          "base_uri": "https://localhost:8080/"
        },
        "id": "ZUY_6ejtjGk9",
        "outputId": "54c90be9-4a9c-4657-b4c5-18d949b38170"
      },
      "execution_count": null,
      "outputs": [
        {
          "output_type": "stream",
          "name": "stdout",
          "text": [
            "1\n",
            "2\n",
            "3\n"
          ]
        }
      ]
    },
    {
      "cell_type": "markdown",
      "source": [
        "# QUESTION 6  Explain the concept of generators in Python and how they are defined.\n",
        "\n"
      ],
      "metadata": {
        "id": "50umZakTjbpw"
      }
    },
    {
      "cell_type": "markdown",
      "source": [
        "-> In Python, generators are a type of iterable that can be used to generate a sequence of values on-the-fly, rather than computing them all at once and storing them in memory.\n",
        ".Generators are defined using functions with the yield keyword instead of return. When a generator function is called, it returns a generator iterator.\n",
        "For example:\n"
      ],
      "metadata": {
        "id": "XL8P27DGjupe"
      }
    },
    {
      "cell_type": "code",
      "source": [
        "def infinite_sequence():\n",
        "    num = 0\n",
        "    while True:\n",
        "        yield num\n",
        "        num += 1\n",
        "\n",
        "gen = infinite_sequence()\n",
        "print(next(gen))  # 0\n",
        "print(next(gen))  # 1\n",
        "print(next(gen))  # 2\n"
      ],
      "metadata": {
        "colab": {
          "base_uri": "https://localhost:8080/"
        },
        "id": "IZ7BfPAMj8Ud",
        "outputId": "4e4bb0b6-6958-4f32-ebcf-f4fd531ff71b"
      },
      "execution_count": null,
      "outputs": [
        {
          "output_type": "stream",
          "name": "stdout",
          "text": [
            "0\n",
            "1\n",
            "2\n"
          ]
        }
      ]
    },
    {
      "cell_type": "markdown",
      "source": [
        "**How Generators Work:**\n",
        "1. When a generator function is called, it returns a generator iterator.\n",
        "2. When next() is called on the generator iterator, the function executes until it reaches a yield statement.\n",
        "3. The value specified in the yield statement is returned, and the function's state is saved.\n",
        "4. When next() is called again, the function resumes execution from where it left off.\n",
        "\n",
        "In case generators are a powerful tool in Python that allow you to generate sequences of values on-the-fly, reducing memory usage and improving flexibility. They are defined using functions with the yield keyword and can be used in a variety of applications.\n"
      ],
      "metadata": {
        "id": "FTOJncTfkFq6"
      }
    },
    {
      "cell_type": "markdown",
      "source": [
        "# QUESTION 7 What are the advantages of using generators over regular functions?\n",
        "\n"
      ],
      "metadata": {
        "id": "ruBtkM6SkhnC"
      }
    },
    {
      "cell_type": "markdown",
      "source": [
        "->** Advantages of Generators:**\n",
        "\n",
        "1. Memory Efficiency: Generators use less memory because they generate values on-the-fly, rather than storing them all in memory at once.\n",
        "2. Lazy Evaluation: Generators only compute values when they are actually needed, which can improve performance.\n",
        "3. Flexibility: Generators can be used to implement cooperative multitasking and asynchronous programming.\n",
        "4. Improved Performance: Generators can be faster than regular functions because they avoid the overhead of creating and storing large data structures.\n",
        "5. Handling Infinite Sequences: Generators can be used to handle infinite sequences, such as reading a large file or generating an infinite sequence of numbers.\n",
        "\n",
        "**When to Use Generators:**\n",
        "\n",
        "1. Large Data Sets: Generators are useful when working with large data sets that don't fit into memory.\n",
        "2. Streaming Data: Generators are suitable for handling streaming data, such as reading from a file or network connection.\n",
        "3. Infinite Sequences: Generators can be used to generate infinite sequences, such as random numbers or prime numbers.\n",
        "\n",
        "Example:\n",
        "def read_large_file(file_path):\n",
        "    with open(file_path, 'r') as file:\n",
        "        for line in file:\n",
        "            yield line.strip()\n",
        "\n",
        "for line in read_large_file('large_file.txt'):\n",
        "    print(line)\n",
        "\n",
        "In this example, the read_large_file generator function reads a large file line-by-line, without loading the entire file into memory.\n",
        "\n",
        "\n"
      ],
      "metadata": {
        "id": "Ze_ou4EKkriS"
      }
    },
    {
      "cell_type": "markdown",
      "source": [
        "# QUESTION 8  What is a lambda function in Python and when is it typically used?\n",
        "\n"
      ],
      "metadata": {
        "id": "sLikUoQ_l--1"
      }
    },
    {
      "cell_type": "markdown",
      "source": [
        "-> In Python, a lambda function is a small anonymous function that can take any number of arguments, but can only have one expression. Lambda functions are defined using the lambda keyword and are typically used for short, one-time use functions.\n",
        "\n",
        "Syntax:\n",
        "\n",
        "\n",
        "lambda arguments: expression\n"
      ],
      "metadata": {
        "id": "ttvPprqKmD9N"
      }
    },
    {
      "cell_type": "code",
      "source": [
        "double = lambda x: x * 2\n",
        "print(double(5))  # Output: 10\n"
      ],
      "metadata": {
        "colab": {
          "base_uri": "https://localhost:8080/"
        },
        "id": "__nGeMEVmtSS",
        "outputId": "488ee22a-f80d-451f-f01f-0ab92338866d"
      },
      "execution_count": null,
      "outputs": [
        {
          "output_type": "stream",
          "name": "stdout",
          "text": [
            "10\n"
          ]
        }
      ]
    },
    {
      "cell_type": "markdown",
      "source": [
        "**When to Use Lambda Functions:**\n",
        "\n",
        "1. One-time use: Lambda functions are useful when you need a small function for a one-time use, such as sorting a list of dictionaries.\n",
        "2. Higher-order functions: Lambda functions can be passed as arguments to higher-order functions, such as map(), filter(), and reduce().\n",
        "3. Event handling: Lambda functions can be used as event handlers in GUI programming or web development.\n",
        "\n",
        "Common Use Cases:\n",
        "\n",
        "1. Sorting: Lambda functions can be used as the key function for sorting lists of dictionaries or objects.\n",
        "2. Mapping: Lambda functions can be used with map() to apply a transformation to each element in a list.\n",
        "3. Filtering: Lambda functions can be used with filter() to filter out elements from a list.\n"
      ],
      "metadata": {
        "id": "iXWMMkK3mxq6"
      }
    },
    {
      "cell_type": "code",
      "source": [
        "#Sorting\n",
        "students = [{'name': 'Avinash', 'age': 25}, {'name': 'Priya', 'age': 20}]\n",
        "students.sort(key=lambda x: x['age'])\n",
        "print(students)\n",
        "\n",
        "# Mapping\n",
        "numbers = [1, 2, 3, 4, 5]\n",
        "squared_numbers = list(map(lambda x: x**2, numbers))\n",
        "print(squared_numbers)\n",
        "\n",
        "# Filtering\n",
        "numbers = [1, 2, 3, 4, 5]\n",
        "even_numbers = list(filter(lambda x: x % 2 == 0, numbers))\n",
        "print(even_numbers)\n",
        "\n"
      ],
      "metadata": {
        "colab": {
          "base_uri": "https://localhost:8080/"
        },
        "id": "IDJrazLRnCWt",
        "outputId": "3719ab7c-1b65-4f76-bc50-ebc7d45feae8"
      },
      "execution_count": null,
      "outputs": [
        {
          "output_type": "stream",
          "name": "stdout",
          "text": [
            "[{'name': 'Priya', 'age': 20}, {'name': 'Avinash', 'age': 25}]\n",
            "[1, 4, 9, 16, 25]\n",
            "[2, 4]\n"
          ]
        }
      ]
    },
    {
      "cell_type": "markdown",
      "source": [
        "# QUESTION 9  Explain the purpose and usage of the `map()` function in Python."
      ],
      "metadata": {
        "id": "g2KliUB8naUQ"
      }
    },
    {
      "cell_type": "markdown",
      "source": [
        "-> The map() function in Python is a built-in function that applies a given function to each item of an iterable (such as a list, tuple, or string) and returns a map object, which is an iterator.\n",
        "\n",
        "**Purpose:**\n",
        "\n",
        "The map() function is used to:\n",
        "\n",
        "1. Apply a transformation: Apply a transformation function to each element in an iterable.\n",
        "2. Simplify code: Simplify code by avoiding the need for explicit loops.\n",
        "\n",
        "**Usage:**\n",
        "\n",
        "The map() function takes two arguments:\n",
        "\n",
        "1. Function: The function to be applied to each element in the iterable.\n",
        "2. Iterable: The iterable (such as a list, tuple, or string) to which the function is applied.\n"
      ],
      "metadata": {
        "id": "mxnFlSesng76"
      }
    },
    {
      "cell_type": "code",
      "source": [
        "def square(x):\n",
        "    return x**2\n",
        "\n",
        "numbers = [1, 2, 3, 4, 5]\n",
        "squared_numbers = list(map(square, numbers))\n",
        "print(squared_numbers)  # Output: [1, 4, 9, 16, 25]\n"
      ],
      "metadata": {
        "colab": {
          "base_uri": "https://localhost:8080/"
        },
        "id": "XSBJaYt7oK9v",
        "outputId": "75695d13-2fbc-4cfe-f6be-83eb3f2cf5d7"
      },
      "execution_count": null,
      "outputs": [
        {
          "output_type": "stream",
          "name": "stdout",
          "text": [
            "[1, 4, 9, 16, 25]\n"
          ]
        }
      ]
    },
    {
      "cell_type": "markdown",
      "source": [
        "**Using Lambda Functions:**\n",
        "\n",
        "You can also use lambda functions with map() to make the code more concise:\n"
      ],
      "metadata": {
        "id": "pYH0OWNuoMeG"
      }
    },
    {
      "cell_type": "code",
      "source": [
        "numbers = [1, 2, 3, 4, 5]\n",
        "squared_numbers = list(map(lambda x: x**2, numbers))\n",
        "print(squared_numbers)\n"
      ],
      "metadata": {
        "colab": {
          "base_uri": "https://localhost:8080/"
        },
        "id": "cGmxs99toRJe",
        "outputId": "89f1bc36-72b9-4587-c444-03cb4e9bbeed"
      },
      "execution_count": null,
      "outputs": [
        {
          "output_type": "stream",
          "name": "stdout",
          "text": [
            "[1, 4, 9, 16, 25]\n"
          ]
        }
      ]
    },
    {
      "cell_type": "markdown",
      "source": [
        "**Multiple Iterables:**\n",
        "\n",
        "map() can also take multiple iterables as arguments. The function is applied to the corresponding elements of each iterable:\n",
        "\n",
        "\n",
        "\n"
      ],
      "metadata": {
        "id": "WPHzNUdUoVEg"
      }
    },
    {
      "cell_type": "code",
      "source": [
        "def add(x, y):\n",
        "    return x + y\n",
        "\n",
        "numbers1 = [1, 2, 3]\n",
        "numbers2 = [4, 5, 6]\n",
        "sums = list(map(add, numbers1, numbers2))\n",
        "print(sums)\n"
      ],
      "metadata": {
        "colab": {
          "base_uri": "https://localhost:8080/"
        },
        "id": "EwShWHJ8oap4",
        "outputId": "5861c12b-0932-4796-8ae7-a6c69c016d24"
      },
      "execution_count": null,
      "outputs": [
        {
          "output_type": "stream",
          "name": "stdout",
          "text": [
            "[5, 7, 9]\n"
          ]
        }
      ]
    },
    {
      "cell_type": "markdown",
      "source": [
        "# QUESTION 10 What is the difference between `map()`, `reduce()`, and `filter()` functions in Python?"
      ],
      "metadata": {
        "id": "UJZ_qqiYoxAi"
      }
    },
    {
      "cell_type": "markdown",
      "source": [
        "-> In Python, map(), reduce(), and filter() are three built-in functions that can be used to process iterables (such as lists, tuples, or strings). Each function serves a different purpose:\n",
        "\n",
        "1. map() Function:\n",
        "\n",
        "- Purpose: Apply a function to each element in an iterable and return a map object.\n",
        "- Usage: map(function, iterable)\n",
        "- Example: list(map(lambda x: x**2, [1, 2, 3])) returns [1, 4, 9]\n",
        "\n",
        "2. filter() Function:\n",
        "\n",
        "- Purpose: Filter out elements from an iterable based on a condition and return a filter object.\n",
        "- Usage: filter(function, iterable)\n",
        "- Example: list(filter(lambda x: x > 2, [1, 2, 3, 4])) returns [3, 4]\n",
        "\n",
        "3. reduce() Function:\n",
        "\n",
        "- Purpose: Apply a function to all elements in an iterable, going from left to right, so as to reduce the iterable to a single output value.\n",
        "- Usage: reduce(function, iterable)\n",
        "- Example: reduce(lambda x, y: x + y, [1, 2, 3, 4]) returns 10\n",
        "- Note: The reduce() function is part of the functools module in Python 3.\n",
        "\n"
      ],
      "metadata": {
        "id": "XKfCGO9Ho0Nj"
      }
    },
    {
      "cell_type": "code",
      "source": [
        "from functools import reduce\n",
        "\n",
        "numbers = [1, 2, 3, 4]\n",
        "\n",
        "# map()\n",
        "squared_numbers = list(map(lambda x: x**2, numbers))\n",
        "print(squared_numbers)  # [1, 4, 9, 16]\n",
        "\n",
        "# filter()\n",
        "even_numbers = list(filter(lambda x: x % 2 == 0, numbers))\n",
        "print(even_numbers)  # [2, 4]\n",
        "\n",
        "# reduce()\n",
        "sum_of_numbers = reduce(lambda x, y: x + y, numbers)\n",
        "print(sum_of_numbers)  # 10\n",
        "\n"
      ],
      "metadata": {
        "colab": {
          "base_uri": "https://localhost:8080/"
        },
        "id": "I9JD6s7up6jc",
        "outputId": "249ac4ed-caa5-4ac8-dae4-08d84168a9a8"
      },
      "execution_count": null,
      "outputs": [
        {
          "output_type": "stream",
          "name": "stdout",
          "text": [
            "[1, 4, 9, 16]\n",
            "[2, 4]\n",
            "10\n"
          ]
        }
      ]
    },
    {
      "cell_type": "markdown",
      "source": [
        "By understanding the differences between map(), reduce(), and filter(), you can choose the right function to solve your problem and write more efficient and readable code."
      ],
      "metadata": {
        "id": "4VwHgozJp8xv"
      }
    },
    {
      "cell_type": "markdown",
      "source": [
        "# QUESTION 11 Using pen & Paper write the internal mechanism for sum operation using  reduce function on this given list:[47,11,42,13];"
      ],
      "metadata": {
        "id": "O5D63X9nqA80"
      }
    },
    {
      "cell_type": "markdown",
      "source": [
        "![ANSWER 11.jpg](data:image/jpeg;base64,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)"
      ],
      "metadata": {
        "id": "cZhWO16YtS24"
      }
    },
    {
      "cell_type": "markdown",
      "source": [
        "# FUNCTION ASSIGNMENT (PRACTICAL)"
      ],
      "metadata": {
        "id": "nmeZ6zeZt6sp"
      }
    },
    {
      "cell_type": "markdown",
      "source": [
        "# QUESTION 1 Write a Python function that takes a list of numbers as input and returns the sum of all even numbers in the list."
      ],
      "metadata": {
        "id": "AJuSmNoSum8E"
      }
    },
    {
      "cell_type": "code",
      "source": [
        "def sum_even_numbers(numbers):\n",
        "    return sum(num for num in numbers if num % 2 == 0)\n",
        "\n",
        "# Example usage:\n",
        "numbers = [1, 2, 3, 4, 5, 6]\n",
        "result = sum_even_numbers(numbers)\n",
        "print(result)\n",
        "\n"
      ],
      "metadata": {
        "colab": {
          "base_uri": "https://localhost:8080/"
        },
        "id": "jUYwO0Hsu1-b",
        "outputId": "1ce02333-cf80-4564-dc76-46d16f9baf2e"
      },
      "execution_count": null,
      "outputs": [
        {
          "output_type": "stream",
          "name": "stdout",
          "text": [
            "12\n"
          ]
        }
      ]
    },
    {
      "cell_type": "markdown",
      "source": [
        "This function uses a generator expression to iterate over the numbers in the list and sum up the even numbers. The expression num % 2 == 0 checks if a number is even.\n"
      ],
      "metadata": {
        "id": "9hG--qdtu-1z"
      }
    },
    {
      "cell_type": "markdown",
      "source": [
        "# QUESTION 2  Create a Python function that accepts a string and returns the reverse of that string."
      ],
      "metadata": {
        "id": "CoM-pr_IvD4M"
      }
    },
    {
      "cell_type": "code",
      "source": [
        "def reverse_string(s):\n",
        "    return s[::-1]\n",
        "\n",
        "# Example usage:\n",
        "original_string = \"Hello, World!\"\n",
        "reversed_string = reverse_string(original_string)\n",
        "print(reversed_string)\n"
      ],
      "metadata": {
        "colab": {
          "base_uri": "https://localhost:8080/"
        },
        "id": "0S0aNJr5vSLG",
        "outputId": "9777bf18-e884-4975-d611-aff846f0f9ae"
      },
      "execution_count": null,
      "outputs": [
        {
          "output_type": "stream",
          "name": "stdout",
          "text": [
            "!dlroW ,olleH\n"
          ]
        }
      ]
    },
    {
      "cell_type": "markdown",
      "source": [
        "This function uses Python's slice notation s[::-1] to extract the characters of the string in reverse order.\n"
      ],
      "metadata": {
        "id": "kjsvcHidvYCY"
      }
    },
    {
      "cell_type": "markdown",
      "source": [
        "# QUESTION 3  Implement a Python function that takes a list of integers and returns a new list containing the squares of each number."
      ],
      "metadata": {
        "id": "K0BvvjXJvdtw"
      }
    },
    {
      "cell_type": "code",
      "source": [
        "def square_numbers(numbers):\n",
        "    return [num**2 for num in numbers]\n",
        "\n",
        "# Example usage:\n",
        "numbers = [1, 2, 3, 4, 5]\n",
        "squared_numbers = square_numbers(numbers)\n",
        "print(squared_numbers)"
      ],
      "metadata": {
        "colab": {
          "base_uri": "https://localhost:8080/"
        },
        "id": "il4_E1JBvk2g",
        "outputId": "7333e42c-52fa-4c42-90f3-e569a94f7026"
      },
      "execution_count": null,
      "outputs": [
        {
          "output_type": "stream",
          "name": "stdout",
          "text": [
            "[1, 4, 9, 16, 25]\n"
          ]
        }
      ]
    },
    {
      "cell_type": "markdown",
      "source": [
        "This function uses a list comprehension to create a new list containing the squares of each number in the input list.\n"
      ],
      "metadata": {
        "id": "VvXgldeRvyqK"
      }
    },
    {
      "cell_type": "markdown",
      "source": [
        "# QUESTION 4 Write a Python function that checks if a given number is prime or not from 1 to 200"
      ],
      "metadata": {
        "id": "YgBaFWTzv4hT"
      }
    },
    {
      "cell_type": "code",
      "source": [
        "def is_prime(n):\n",
        "    if n <= 1:\n",
        "        return False\n",
        "    for i in range(2, int(n**0.5) + 1):\n",
        "        if n % i == 0:\n",
        "            return False\n",
        "    return True\n",
        "\n",
        "# Check numbers from 1 to 200\n",
        "for num in range(1, 201):\n",
        "    if is_prime(num):\n",
        "        print(f\"{num} is prime\")\n",
        "    else:\n",
        "        print(f\"{num} is not prime\")\n"
      ],
      "metadata": {
        "id": "ByhjVuLSwE9L"
      },
      "execution_count": null,
      "outputs": []
    },
    {
      "cell_type": "markdown",
      "source": [
        "This function works by checking if a number n is divisible by any number up to its square root. If n is divisible, it's not a prime number.\n"
      ],
      "metadata": {
        "id": "b8nV1prKwI9J"
      }
    },
    {
      "cell_type": "markdown",
      "source": [
        "# QUESTION 5 Create an iterator class in Python that generates the Fibonacci sequence up to a specified number of terms."
      ],
      "metadata": {
        "id": "B2Fa5uSnwL0l"
      }
    },
    {
      "cell_type": "code",
      "source": [
        "class FibonacciIterator:\n",
        "    def __init__(self, terms):\n",
        "        self.terms = terms\n",
        "        self.current = 0\n",
        "        self.next_value = 1\n",
        "        self.count = 0\n",
        "\n",
        "    def __iter__(self):\n",
        "        return self\n",
        "\n",
        "    def __next__(self):\n",
        "        if self.count < self.terms:\n",
        "            value = self.current\n",
        "            self.current, self.next_value = self.next_value, self.current + self.next_value\n",
        "            self.count += 1\n",
        "            return value\n",
        "        else:\n",
        "            raise StopIteration\n",
        "\n",
        "# Example usage:\n",
        "if __name__ == \"__main__\":\n",
        "    num_terms = 10  # Specify the number of terms\n",
        "    fibonacci_sequence = FibonacciIterator(num_terms)\n",
        "\n",
        "    for number in fibonacci_sequence:\n",
        "        print(number)\n"
      ],
      "metadata": {
        "id": "vm4DsNmUwWxO"
      },
      "execution_count": null,
      "outputs": []
    },
    {
      "cell_type": "markdown",
      "source": [
        "# QUESTION 6 Write a generator function in Python that yields the powers of 2 up to a given exponent."
      ],
      "metadata": {
        "id": "5SGt0Pc8yD5x"
      }
    },
    {
      "cell_type": "code",
      "source": [
        "def powers_of_two(exponent):\n",
        "    for i in range(exponent + 1):\n",
        "        yield 2 ** i\n",
        "\n",
        "# Example usage:\n",
        "if __name__ == \"__main__\":\n",
        "    max_exponent = 10  # Specify the maximum exponent\n",
        "    for power in powers_of_two(max_exponent):\n",
        "        print(power)\n"
      ],
      "metadata": {
        "id": "KmEHub-eySzT"
      },
      "execution_count": null,
      "outputs": []
    },
    {
      "cell_type": "markdown",
      "source": [
        "# QUESTION 7  Implement a generator function that reads a file line by line and yields each line as a string."
      ],
      "metadata": {
        "id": "AJggU1RLyZOh"
      }
    },
    {
      "cell_type": "code",
      "source": [
        "def read_file_lines(file_path):\n",
        "    with open(file_path, 'r') as file:\n",
        "        for line in file:\n",
        "            yield line.strip()\n",
        "\n",
        "# Example usage:\n",
        "file_path = 'example.txt'\n",
        "for line in read_file_lines(file_path):\n",
        "    print(line)\n"
      ],
      "metadata": {
        "id": "J48LiFs5y4S9"
      },
      "execution_count": null,
      "outputs": []
    },
    {
      "cell_type": "markdown",
      "source": [
        "# QUESTION 8 Use a lambda function in Python to sort a list of tuples based on the second element of each tuple"
      ],
      "metadata": {
        "id": "gnNEuY73zJRK"
      }
    },
    {
      "cell_type": "code",
      "source": [
        "# Sample list of tuples\n",
        "data = [(1, 'apple'), (3, 'banana'), (2, 'cherry'), (4, 'date')]\n",
        "\n",
        "# Sorting the list of tuples based on the second element\n",
        "sorted_data = sorted(data, key=lambda x: x[1])\n",
        "\n",
        "# Example usage\n",
        "if __name__ == \"__main__\":\n",
        "    print(\"Original list:\", data)\n",
        "    print(\"Sorted list:\", sorted_data)\n"
      ],
      "metadata": {
        "colab": {
          "base_uri": "https://localhost:8080/"
        },
        "id": "L96buVaEzRzo",
        "outputId": "b0803045-ae1e-4ed1-be67-62a2b3bd482c"
      },
      "execution_count": null,
      "outputs": [
        {
          "output_type": "stream",
          "name": "stdout",
          "text": [
            "Original list: [(1, 'apple'), (3, 'banana'), (2, 'cherry'), (4, 'date')]\n",
            "Sorted list: [(1, 'apple'), (3, 'banana'), (2, 'cherry'), (4, 'date')]\n"
          ]
        }
      ]
    },
    {
      "cell_type": "markdown",
      "source": [
        "# QUESTION 9 Write a Python program that uses `map()` to convert a list of temperatures from Celsius to Fahrenheit."
      ],
      "metadata": {
        "id": "Bso4onsezTmh"
      }
    },
    {
      "cell_type": "code",
      "source": [
        "def celsius_to_fahrenheit(celsius):\n",
        "    \"\"\"Convert Celsius to Fahrenheit.\"\"\"\n",
        "    return (celsius * 9/5) + 32\n",
        "\n",
        "# Sample list of temperatures in Celsius\n",
        "celsius_temperatures = [0, 20, 37, 100, -40]\n",
        "\n",
        "# Using map() to convert Celsius to Fahrenheit\n",
        "fahrenheit_temperatures = list(map(celsius_to_fahrenheit, celsius_temperatures))\n",
        "\n",
        "# Example usage\n",
        "if __name__ == \"__main__\":\n",
        "    print(\"Celsius temperatures:\", celsius_temperatures)\n",
        "    print(\"Fahrenheit temperatures:\", fahrenheit_temperatures)\n"
      ],
      "metadata": {
        "colab": {
          "base_uri": "https://localhost:8080/"
        },
        "id": "iv_M5ViZzhBS",
        "outputId": "a237404e-1d95-4b15-8059-bb87e2b9c40b"
      },
      "execution_count": null,
      "outputs": [
        {
          "output_type": "stream",
          "name": "stdout",
          "text": [
            "Celsius temperatures: [0, 20, 37, 100, -40]\n",
            "Fahrenheit temperatures: [32.0, 68.0, 98.6, 212.0, -40.0]\n"
          ]
        }
      ]
    },
    {
      "cell_type": "markdown",
      "source": [
        "# QUESTION 10  Create a Python program that uses `filter()` to remove all the vowels from a given string."
      ],
      "metadata": {
        "id": "wnq5PvWHzo0d"
      }
    },
    {
      "cell_type": "code",
      "source": [
        "def remove_vowels(input_string):\n",
        "    \"\"\"Remove vowels from the input string.\"\"\"\n",
        "    vowels = 'aeiouAEIOU'\n",
        "    # Use filter to remove vowels\n",
        "    filtered_string = ''.join(filter(lambda char: char not in vowels, input_string))\n",
        "    return filtered_string\n",
        "\n",
        "# Example usage\n",
        "if __name__ == \"__main__\":\n",
        "    original_string = \"Hello, World!\"\n",
        "    result_string = remove_vowels(original_string)\n",
        "\n",
        "    print(\"Original string:\", original_string)\n",
        "    print(\"String without vowels:\", result_string)\n"
      ],
      "metadata": {
        "colab": {
          "base_uri": "https://localhost:8080/"
        },
        "id": "q8vWKvvmzzXd",
        "outputId": "354707ed-a22d-48eb-aa65-221c041f1e0a"
      },
      "execution_count": null,
      "outputs": [
        {
          "output_type": "stream",
          "name": "stdout",
          "text": [
            "Original string: Hello, World!\n",
            "String without vowels: Hll, Wrld!\n"
          ]
        }
      ]
    },
    {
      "cell_type": "markdown",
      "source": [
        "# QUESTION 11  Imagine an accounting routine used in a book shop. It works on a list with sublists, which look like this:\n",
        "![WhatsApp Image 2025-05-15 at 12.52.03_e4a4d240.jpg](data:image/jpeg;base64,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)"
      ],
      "metadata": {
        "id": "zUqX6SeZz371"
      }
    },
    {
      "cell_type": "markdown",
      "source": [
        " # Write a Python program, which returns a list with 2-tuples. Each tuple consists of the order number and the product of the price per item and the quantity. The product should be increased by 10,- € if the value of the order is smaller than 100,00 €.  Write a Python program using lambda and map."
      ],
      "metadata": {
        "id": "njR_QAfQ2A3-"
      }
    },
    {
      "cell_type": "code",
      "source": [
        "# Data as a list of sublists\n",
        "orders = [\n",
        "     [34587,\"Learning Python, Mark Lutz\", 4, 40.95],\n",
        "     [98762, \"Programming Python, Mark Lutz\", 5, 56.80],\n",
        "     [77226,\"Head First Python,Paul Barry\",3, 32.95],\n",
        "     [88112,\"Einfuhrung in Python3,Bernd Klein\",3, 24.99]\n",
        "  ]\n",
        "\n",
        "\n",
        "#  Using lambda and map to create a 2-tuples\n",
        "result = list(map(\n",
        "    lambda order:(order[0], # order number\n",
        "                  order[2] * order[3] + (10 if order[2] *order[3] < 100 else 0) # Product + 10 'if' < 100\n",
        "        ),\n",
        "        orders\n",
        "    ))\n",
        "print(result)\n",
        ""
      ],
      "metadata": {
        "colab": {
          "base_uri": "https://localhost:8080/"
        },
        "id": "v5XLGy4_vh7y",
        "outputId": "e5e49cbd-a1b2-4e32-bcd7-5001bd6a5c6b"
      },
      "execution_count": 7,
      "outputs": [
        {
          "output_type": "stream",
          "name": "stdout",
          "text": [
            "[(34587, 163.8), (98762, 284.0), (77226, 108.85000000000001), (88112, 84.97)]\n"
          ]
        }
      ]
    }
  ]
}